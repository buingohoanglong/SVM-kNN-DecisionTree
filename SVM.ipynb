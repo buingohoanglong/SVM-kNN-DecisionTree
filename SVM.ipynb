{
  "nbformat": 4,
  "nbformat_minor": 0,
  "metadata": {
    "colab": {
      "name": "SVM.ipynb",
      "provenance": [],
      "collapsed_sections": [
        "Z8IFQGArFPox",
        "lYxF0__qFVnl",
        "NJ2XK0vuMjdP",
        "6aE4RcNVRA6K",
        "kQvkx1E9nDID"
      ],
      "authorship_tag": "ABX9TyN0nh0OHdU5ZUuHMA0VdjNX",
      "include_colab_link": true
    },
    "kernelspec": {
      "name": "python3",
      "display_name": "Python 3"
    },
    "language_info": {
      "name": "python"
    }
  },
  "cells": [
    {
      "cell_type": "markdown",
      "metadata": {
        "id": "view-in-github",
        "colab_type": "text"
      },
      "source": [
        "<a href=\"https://colab.research.google.com/github/buingohoanglong/SVM-kNN-DecisionTree/blob/main/SVM.ipynb\" target=\"_parent\"><img src=\"https://colab.research.google.com/assets/colab-badge.svg\" alt=\"Open In Colab\"/></a>"
      ]
    },
    {
      "cell_type": "markdown",
      "metadata": {
        "id": "Z8IFQGArFPox"
      },
      "source": [
        "# Load data"
      ]
    },
    {
      "cell_type": "code",
      "metadata": {
        "id": "fewsmCK58j9y",
        "colab": {
          "base_uri": "https://localhost:8080/"
        },
        "outputId": "d1d10b2a-047f-4631-c492-6d6463bacd71"
      },
      "source": [
        "from google.colab import drive\n",
        "drive.mount('/content/drive')"
      ],
      "execution_count": 555,
      "outputs": [
        {
          "output_type": "stream",
          "text": [
            "Drive already mounted at /content/drive; to attempt to forcibly remount, call drive.mount(\"/content/drive\", force_remount=True).\n"
          ],
          "name": "stdout"
        }
      ]
    },
    {
      "cell_type": "code",
      "metadata": {
        "id": "Q_fNmheFLOhe",
        "colab": {
          "base_uri": "https://localhost:8080/"
        },
        "outputId": "6a6c939f-c853-4bfd-aa5d-9b87583a2043"
      },
      "source": [
        "!ls"
      ],
      "execution_count": 556,
      "outputs": [
        {
          "output_type": "stream",
          "text": [
            "drive  sample_data\n"
          ],
          "name": "stdout"
        }
      ]
    },
    {
      "cell_type": "code",
      "metadata": {
        "id": "xUSW9pXb9f9v"
      },
      "source": [
        "import pandas as pd"
      ],
      "execution_count": 557,
      "outputs": []
    },
    {
      "cell_type": "code",
      "metadata": {
        "id": "7bTVKFyK9lmr"
      },
      "source": [
        "dataset = pd.read_csv('drive/MyDrive/desktop/ADA/extra/spam_ham_dataset.csv')"
      ],
      "execution_count": 558,
      "outputs": []
    },
    {
      "cell_type": "code",
      "metadata": {
        "colab": {
          "base_uri": "https://localhost:8080/",
          "height": 424
        },
        "id": "yiwSzdfh93RE",
        "outputId": "f0c3c67f-4a86-4912-d99c-2299a5734b73"
      },
      "source": [
        "dataset"
      ],
      "execution_count": 559,
      "outputs": [
        {
          "output_type": "execute_result",
          "data": {
            "text/html": [
              "<div>\n",
              "<style scoped>\n",
              "    .dataframe tbody tr th:only-of-type {\n",
              "        vertical-align: middle;\n",
              "    }\n",
              "\n",
              "    .dataframe tbody tr th {\n",
              "        vertical-align: top;\n",
              "    }\n",
              "\n",
              "    .dataframe thead th {\n",
              "        text-align: right;\n",
              "    }\n",
              "</style>\n",
              "<table border=\"1\" class=\"dataframe\">\n",
              "  <thead>\n",
              "    <tr style=\"text-align: right;\">\n",
              "      <th></th>\n",
              "      <th>Unnamed: 0</th>\n",
              "      <th>label</th>\n",
              "      <th>text</th>\n",
              "      <th>label_num</th>\n",
              "    </tr>\n",
              "  </thead>\n",
              "  <tbody>\n",
              "    <tr>\n",
              "      <th>0</th>\n",
              "      <td>605</td>\n",
              "      <td>ham</td>\n",
              "      <td>Subject: enron methanol ; meter # : 988291\\r\\n...</td>\n",
              "      <td>0</td>\n",
              "    </tr>\n",
              "    <tr>\n",
              "      <th>1</th>\n",
              "      <td>2349</td>\n",
              "      <td>ham</td>\n",
              "      <td>Subject: hpl nom for january 9 , 2001\\r\\n( see...</td>\n",
              "      <td>0</td>\n",
              "    </tr>\n",
              "    <tr>\n",
              "      <th>2</th>\n",
              "      <td>3624</td>\n",
              "      <td>ham</td>\n",
              "      <td>Subject: neon retreat\\r\\nho ho ho , we ' re ar...</td>\n",
              "      <td>0</td>\n",
              "    </tr>\n",
              "    <tr>\n",
              "      <th>3</th>\n",
              "      <td>4685</td>\n",
              "      <td>spam</td>\n",
              "      <td>Subject: photoshop , windows , office . cheap ...</td>\n",
              "      <td>1</td>\n",
              "    </tr>\n",
              "    <tr>\n",
              "      <th>4</th>\n",
              "      <td>2030</td>\n",
              "      <td>ham</td>\n",
              "      <td>Subject: re : indian springs\\r\\nthis deal is t...</td>\n",
              "      <td>0</td>\n",
              "    </tr>\n",
              "    <tr>\n",
              "      <th>...</th>\n",
              "      <td>...</td>\n",
              "      <td>...</td>\n",
              "      <td>...</td>\n",
              "      <td>...</td>\n",
              "    </tr>\n",
              "    <tr>\n",
              "      <th>5166</th>\n",
              "      <td>1518</td>\n",
              "      <td>ham</td>\n",
              "      <td>Subject: put the 10 on the ft\\r\\nthe transport...</td>\n",
              "      <td>0</td>\n",
              "    </tr>\n",
              "    <tr>\n",
              "      <th>5167</th>\n",
              "      <td>404</td>\n",
              "      <td>ham</td>\n",
              "      <td>Subject: 3 / 4 / 2000 and following noms\\r\\nhp...</td>\n",
              "      <td>0</td>\n",
              "    </tr>\n",
              "    <tr>\n",
              "      <th>5168</th>\n",
              "      <td>2933</td>\n",
              "      <td>ham</td>\n",
              "      <td>Subject: calpine daily gas nomination\\r\\n&gt;\\r\\n...</td>\n",
              "      <td>0</td>\n",
              "    </tr>\n",
              "    <tr>\n",
              "      <th>5169</th>\n",
              "      <td>1409</td>\n",
              "      <td>ham</td>\n",
              "      <td>Subject: industrial worksheets for august 2000...</td>\n",
              "      <td>0</td>\n",
              "    </tr>\n",
              "    <tr>\n",
              "      <th>5170</th>\n",
              "      <td>4807</td>\n",
              "      <td>spam</td>\n",
              "      <td>Subject: important online banking alert\\r\\ndea...</td>\n",
              "      <td>1</td>\n",
              "    </tr>\n",
              "  </tbody>\n",
              "</table>\n",
              "<p>5171 rows × 4 columns</p>\n",
              "</div>"
            ],
            "text/plain": [
              "      Unnamed: 0  ... label_num\n",
              "0            605  ...         0\n",
              "1           2349  ...         0\n",
              "2           3624  ...         0\n",
              "3           4685  ...         1\n",
              "4           2030  ...         0\n",
              "...          ...  ...       ...\n",
              "5166        1518  ...         0\n",
              "5167         404  ...         0\n",
              "5168        2933  ...         0\n",
              "5169        1409  ...         0\n",
              "5170        4807  ...         1\n",
              "\n",
              "[5171 rows x 4 columns]"
            ]
          },
          "metadata": {
            "tags": []
          },
          "execution_count": 559
        }
      ]
    },
    {
      "cell_type": "code",
      "metadata": {
        "id": "pEIOd30J-8ng"
      },
      "source": [
        "data_X = dataset['text']\n",
        "data_y = dataset['label_num']"
      ],
      "execution_count": 560,
      "outputs": []
    },
    {
      "cell_type": "code",
      "metadata": {
        "id": "EKG5ve_z_X53"
      },
      "source": [
        "data_X"
      ],
      "execution_count": null,
      "outputs": []
    },
    {
      "cell_type": "code",
      "metadata": {
        "id": "FD-fR4r4_btR"
      },
      "source": [
        "data_y"
      ],
      "execution_count": null,
      "outputs": []
    },
    {
      "cell_type": "code",
      "metadata": {
        "id": "6DlTQGp8A-vz"
      },
      "source": [
        "import nltk\n",
        "nltk.download('punkt')\n",
        "nltk.download('stopwords')"
      ],
      "execution_count": null,
      "outputs": []
    },
    {
      "cell_type": "code",
      "metadata": {
        "id": "OPpUPaEbBVy_"
      },
      "source": [
        "from nltk.tokenize import word_tokenize\n",
        "from nltk.corpus import stopwords\n",
        "import re"
      ],
      "execution_count": 562,
      "outputs": []
    },
    {
      "cell_type": "code",
      "metadata": {
        "id": "z_nBCo2fDRlg"
      },
      "source": [
        "def text_cleaner(text):\n",
        "    text = text.lower() # lower case text\n",
        "    text = re.sub(r\"'s\\b\",\"\",text)  # remove 's at the end of each word\n",
        "    # remove punctuations\n",
        "    text = re.sub(\"[^a-zA-Z]\", \" \", text) # how about numbers ???\n",
        "    return text"
      ],
      "execution_count": 563,
      "outputs": []
    },
    {
      "cell_type": "code",
      "metadata": {
        "id": "RsZqjklL_1m9"
      },
      "source": [
        "def preprocess(sentence):\n",
        "  sentence = text_cleaner(sentence)\n",
        "  tokens = word_tokenize(sentence)\n",
        "  stop_words = set(stopwords.words('english'))\n",
        "  tokens = [tk for tk in tokens if not tk in stop_words]\n",
        "  return tokens"
      ],
      "execution_count": 564,
      "outputs": []
    },
    {
      "cell_type": "code",
      "metadata": {
        "id": "HqcsXG_XAwnq"
      },
      "source": [
        "sentences = [preprocess(s) for s in data_X]"
      ],
      "execution_count": 565,
      "outputs": []
    },
    {
      "cell_type": "code",
      "metadata": {
        "id": "hal8q52JD3BD"
      },
      "source": [
        "labels = [l if l == 1 else -1 for l in data_y]"
      ],
      "execution_count": 566,
      "outputs": []
    },
    {
      "cell_type": "markdown",
      "metadata": {
        "id": "lYxF0__qFVnl"
      },
      "source": [
        "# Load google pretrained word2vec"
      ]
    },
    {
      "cell_type": "code",
      "metadata": {
        "id": "oV8TRwvfEGtl"
      },
      "source": [
        "import gensim.downloader as api\n",
        "path = api.load(\"word2vec-google-news-300\", return_path=True)"
      ],
      "execution_count": null,
      "outputs": []
    },
    {
      "cell_type": "code",
      "metadata": {
        "colab": {
          "base_uri": "https://localhost:8080/"
        },
        "id": "at3lwOkwK6an",
        "outputId": "9c31f47f-f6e6-4986-d8fe-610ba8ac1188"
      },
      "source": [
        "print(path)"
      ],
      "execution_count": null,
      "outputs": [
        {
          "output_type": "stream",
          "text": [
            "/root/gensim-data/word2vec-google-news-300/word2vec-google-news-300.gz\n"
          ],
          "name": "stdout"
        }
      ]
    },
    {
      "cell_type": "code",
      "metadata": {
        "id": "_zQo5ti6Lr1d"
      },
      "source": [
        "import gensim\n",
        "from gensim.models import Word2Vec\n",
        "from gensim.utils import simple_preprocess\n",
        "\n",
        "from gensim.models.keyedvectors import KeyedVectors\n",
        "\n",
        "word_vectors = KeyedVectors.load_word2vec_format(path, binary=True)"
      ],
      "execution_count": null,
      "outputs": []
    },
    {
      "cell_type": "code",
      "metadata": {
        "colab": {
          "base_uri": "https://localhost:8080/"
        },
        "id": "bGUOAFP_MUsW",
        "outputId": "ce1a0894-de9a-42f5-b12a-9891825e93c0"
      },
      "source": [
        "word_vectors['facebook'].shape"
      ],
      "execution_count": null,
      "outputs": [
        {
          "output_type": "execute_result",
          "data": {
            "text/plain": [
              "(300,)"
            ]
          },
          "metadata": {
            "tags": []
          },
          "execution_count": 19
        }
      ]
    },
    {
      "cell_type": "markdown",
      "metadata": {
        "id": "NJ2XK0vuMjdP"
      },
      "source": [
        "# Prepare data"
      ]
    },
    {
      "cell_type": "code",
      "metadata": {
        "id": "Vb7h-20hOUqy"
      },
      "source": [
        "import numpy as np"
      ],
      "execution_count": 567,
      "outputs": []
    },
    {
      "cell_type": "code",
      "metadata": {
        "id": "NoNDN19ON_h3"
      },
      "source": [
        "EMBEDDING_DIM = 300"
      ],
      "execution_count": 568,
      "outputs": []
    },
    {
      "cell_type": "code",
      "metadata": {
        "id": "UsEQ1ovDOPln"
      },
      "source": [
        "X = np.zeros((len(sentences),EMBEDDING_DIM))"
      ],
      "execution_count": 569,
      "outputs": []
    },
    {
      "cell_type": "code",
      "metadata": {
        "id": "rzqiea1tMrk1"
      },
      "source": [
        "index = 0\n",
        "for sentence in sentences:\n",
        "  for token in sentence:\n",
        "    try:\n",
        "      embedding_vector = word_vectors[token]\n",
        "      X[index] += embedding_vector\n",
        "    except KeyError:\n",
        "      X[index] += np.random.normal(0,np.sqrt(0.25),EMBEDDING_DIM)\n",
        "  index += 1"
      ],
      "execution_count": 570,
      "outputs": []
    },
    {
      "cell_type": "code",
      "metadata": {
        "id": "uwdoMSojPhZQ"
      },
      "source": [
        "print(X[0])"
      ],
      "execution_count": null,
      "outputs": []
    },
    {
      "cell_type": "code",
      "metadata": {
        "id": "Zl1LN_aYPx35"
      },
      "source": [
        "from sklearn.model_selection import train_test_split"
      ],
      "execution_count": 571,
      "outputs": []
    },
    {
      "cell_type": "code",
      "metadata": {
        "id": "4XHu3zgZP4Zq"
      },
      "source": [
        "X_train, X_test, y_train, y_test = train_test_split(X, np.array(labels))\n",
        "X_train = X_train.T\n",
        "X_test = X_test.T\n",
        "y_train = y_train.reshape(1, y_train.shape[0])\n",
        "y_test = y_test.reshape(1, y_test.shape[0])"
      ],
      "execution_count": 572,
      "outputs": []
    },
    {
      "cell_type": "code",
      "metadata": {
        "colab": {
          "base_uri": "https://localhost:8080/"
        },
        "id": "2ctFPyy2QitR",
        "outputId": "ce29b75e-1f49-4ec6-9816-d91772a9ed7b"
      },
      "source": [
        "print(X_train.shape)\n",
        "print(y_train.shape)\n",
        "print(X_test.shape)\n",
        "print(y_test.shape)"
      ],
      "execution_count": 573,
      "outputs": [
        {
          "output_type": "stream",
          "text": [
            "(300, 3878)\n",
            "(1, 3878)\n",
            "(300, 1293)\n",
            "(1, 1293)\n"
          ],
          "name": "stdout"
        }
      ]
    },
    {
      "cell_type": "markdown",
      "metadata": {
        "id": "6aE4RcNVRA6K"
      },
      "source": [
        "# Soft Margin SVM model"
      ]
    },
    {
      "cell_type": "code",
      "metadata": {
        "id": "gkYOsI8O_9of"
      },
      "source": [
        "class SVM:\n",
        "  def __init__(self):\n",
        "    self.weights = None\n",
        "\n",
        "  def calculate_accurracy(self, predicts, y):\n",
        "    f = np.frompyfunc(lambda x: x if x == 1 else 0,1,1)\n",
        "    num_correct_predicts = np.sum(f(predicts*y))\n",
        "    num_predicts = y.shape[1]\n",
        "    acc = num_correct_predicts / num_predicts\n",
        "    return acc\n",
        "\n",
        "  def has_positive_hinge_loss(self, w_bar, x_bar, y):\n",
        "    f = np.frompyfunc(lambda x: 1 if x > 0 else 0, 1, 1)\n",
        "    return f(1 - y*w_bar.T.dot(x_bar))\n",
        "\n",
        "  def fit(self, X, y, learning_rate=0.001, ld=1, loops=1000):\n",
        "    X_bar = np.concatenate((X, np.ones((1, X.shape[1]))), axis=0) # extend\n",
        "    w_bar = np.ones((X_bar.shape[0], 1)) # extend\n",
        "\n",
        "    for i in range(loops):\n",
        "      if i%100 == 0:\n",
        "        predicts, acc = svm_predict(X,y,w_bar)\n",
        "        print(f\"Acc: {acc}\")\n",
        "        \n",
        "      temp = has_positive_hinge_loss(w_bar, X_bar, y)\n",
        "      regularization_gradient = ld * np.concatenate((w_bar[:-1], np.array([[0]])), axis=0)\n",
        "      hinge_gradient = np.sum(-temp*y*X_bar, axis=1).reshape(X_bar.shape[0], 1)\n",
        "      w_bar = w_bar - learning_rate * ( hinge_gradient + regularization_gradient )\n",
        "\n",
        "    self.weights = w_bar\n",
        "\n",
        "  def predict(self, X, y=None):\n",
        "    X_bar = np.concatenate((X, np.ones((1, X.shape[1]))), axis=0) # extend\n",
        "    predicts = np.sign(self.weights.T.dot(X_bar))\n",
        "\n",
        "    if y is not None: # used for test purpose\n",
        "      # calculate accurracy\n",
        "      acc = self.calculate_accurracy(predicts, y)\n",
        "      return predicts, acc\n",
        "    else:\n",
        "      return predicts\n",
        "\n",
        "  def save(self, file_name):\n",
        "    with open(file_name, 'wb') as f:\n",
        "      np.save(f, self.weights)\n",
        "\n",
        "  def load(self, file_name):\n",
        "    with open(file_name, 'rb') as f:\n",
        "      self.weights = np.load(f, allow_pickle=True)\n",
        "  "
      ],
      "execution_count": 574,
      "outputs": []
    },
    {
      "cell_type": "code",
      "metadata": {
        "colab": {
          "base_uri": "https://localhost:8080/"
        },
        "id": "CfxKqpiUCSOP",
        "outputId": "502bd6d4-1b3e-4f75-a073-1012bb929a07"
      },
      "source": [
        "svm_model = SVM()\n",
        "svm_model.fit(X_train, y_train)"
      ],
      "execution_count": 575,
      "outputs": [
        {
          "output_type": "stream",
          "text": [
            "Acc: 0.6330582774626096\n",
            "Acc: 0.9203197524497163\n",
            "Acc: 0.7926766374419804\n",
            "Acc: 0.9195461578133058\n",
            "Acc: 0.944043321299639\n",
            "Acc: 0.9154203197524498\n",
            "Acc: 0.9342444559051057\n",
            "Acc: 0.9406910778751933\n",
            "Acc: 0.9448169159360496\n",
            "Acc: 0.9448169159360496\n"
          ],
          "name": "stdout"
        }
      ]
    },
    {
      "cell_type": "code",
      "metadata": {
        "id": "lvWQuci8DQFw"
      },
      "source": [
        "svm_model.save('drive/MyDrive/desktop/ADA/extra/weights.npy')"
      ],
      "execution_count": 576,
      "outputs": []
    },
    {
      "cell_type": "code",
      "metadata": {
        "id": "BGkgMBDhDajp"
      },
      "source": [
        "svm_model.load('drive/MyDrive/desktop/ADA/extra/weights.npy')"
      ],
      "execution_count": 577,
      "outputs": []
    },
    {
      "cell_type": "code",
      "metadata": {
        "id": "KDE2_bqLDnIk"
      },
      "source": [
        "predicts, acc = svm_model.predict(X_test, y_test)"
      ],
      "execution_count": 578,
      "outputs": []
    },
    {
      "cell_type": "code",
      "metadata": {
        "colab": {
          "base_uri": "https://localhost:8080/"
        },
        "id": "5ihwFVsZG5Oq",
        "outputId": "6ae91f9f-3e0b-4ac1-b494-6e9b5feca367"
      },
      "source": [
        "acc"
      ],
      "execution_count": 579,
      "outputs": [
        {
          "output_type": "execute_result",
          "data": {
            "text/plain": [
              "0.925754060324826"
            ]
          },
          "metadata": {
            "tags": []
          },
          "execution_count": 579
        }
      ]
    },
    {
      "cell_type": "markdown",
      "metadata": {
        "id": "kQvkx1E9nDID"
      },
      "source": [
        "# kNN model"
      ]
    },
    {
      "cell_type": "code",
      "metadata": {
        "id": "P2lRSpO0HK67"
      },
      "source": [
        "class kNN:\n",
        "  def __init__(self):\n",
        "    self.X_train = None\n",
        "    self.y_train = None\n",
        "\n",
        "  def calculate_accurracy(self, predicts, y):\n",
        "    f = np.frompyfunc(lambda x: x if x == 1 else 0,1,1)\n",
        "    num_correct_predicts = np.sum(f(predicts*y))\n",
        "    num_predicts = y.shape[1]\n",
        "    acc = num_correct_predicts / num_predicts\n",
        "    return acc\n",
        "  \n",
        "  def euclidean_distance(self, x, X):\n",
        "    return np.sum((x - X)**2, axis=0)\n",
        "\n",
        "  def voting(self, k_nearest, distances, labels):\n",
        "    scores = np.zeros((2,1))\n",
        "    for neighbour in k_nearest:\n",
        "      d = distances[neighbour]\n",
        "      if d == 0:\n",
        "        return labels[:,neighbour]\n",
        "\n",
        "      if labels[:,neighbour] == 1:\n",
        "        scores[0] += 1/d\n",
        "      else:\n",
        "        scores[1] += 1/d\n",
        "\n",
        "    return 1 if scores[0] > scores[1] else -1\n",
        "\n",
        "  def fit(self, X, y):\n",
        "    self.X = X\n",
        "    self.y = y\n",
        "\n",
        "  def predict(self, X_test, y_test=None, k=10):\n",
        "    predicts = np.zeros((1, y_test.shape[1]))\n",
        "    for i in range(X_test.shape[1]):\n",
        "      x = X_test[:,i].reshape((X_test.shape[0], 1))\n",
        "      distances = euclidean_distance(x, self.X)\n",
        "      k_nearest = np.argpartition(distances, k)\n",
        "      predicts[:,i] = voting(k_nearest, distances, self.y)\n",
        "\n",
        "    if y_test is not None:  # used for test purpose\n",
        "      acc = self.calculate_accurracy(predicts, y_test)\n",
        "      return predicts, acc\n",
        "    else:\n",
        "      return predicts\n",
        "  "
      ],
      "execution_count": 580,
      "outputs": []
    },
    {
      "cell_type": "code",
      "metadata": {
        "id": "V0ylxyMcItQU"
      },
      "source": [
        "knn_model = kNN()\n",
        "knn_model.fit(X_train, y_train)\n",
        "predicts, acc = knn_model.predict(X_test, y_test)"
      ],
      "execution_count": 581,
      "outputs": []
    },
    {
      "cell_type": "code",
      "metadata": {
        "colab": {
          "base_uri": "https://localhost:8080/"
        },
        "id": "-ccyHYD9JvEj",
        "outputId": "244b82a5-1bfa-4a3c-aeee-ec4baa6b96be"
      },
      "source": [
        "acc"
      ],
      "execution_count": 582,
      "outputs": [
        {
          "output_type": "execute_result",
          "data": {
            "text/plain": [
              "0.7146171693735499"
            ]
          },
          "metadata": {
            "tags": []
          },
          "execution_count": 582
        }
      ]
    },
    {
      "cell_type": "markdown",
      "metadata": {
        "id": "7GRLxv_v5AtR"
      },
      "source": [
        "# Decision Tree model"
      ]
    },
    {
      "cell_type": "code",
      "metadata": {
        "id": "1vl3gc-E5FKf"
      },
      "source": [
        "class Node:\n",
        "  def __init__(self, ids, depth):\n",
        "    self.ids = ids # index of datapoint in dataset\n",
        "    self.entropy = None\n",
        "\n",
        "    # leaf node attribute\n",
        "    self.label = None\n",
        "\n",
        "    # internal node attribute\n",
        "    self.split_attribute = None # index of attribute to split at this node\n",
        "    self.split_value = None # value to be split at self.slit_attribute\n",
        "    self.children = []  # list of child nodes (left and right)\n",
        "\n",
        "    self.depth = depth\n",
        "\n",
        "  def set_state(self, split_attribute, split_value, children):\n",
        "    self.split_attribute = split_attribute\n",
        "    self.split_value = split_value\n",
        "    self.children = children"
      ],
      "execution_count": 583,
      "outputs": []
    },
    {
      "cell_type": "code",
      "metadata": {
        "id": "9HjDp1AWFc9S"
      },
      "source": [
        "from functools import *\n",
        "import math\n",
        "\n",
        "class DecisionTree:\n",
        "  def __init__(self, max_depth):\n",
        "    self.X = [] # list of data point, each data point is a list of attributes (write in row)\n",
        "    self.y = []  # list of labels\n",
        "\n",
        "    self.root = None\n",
        "\n",
        "    self.max_depth = max_depth\n",
        "\n",
        "  def entropy(self, node):\n",
        "    positive_count = 0\n",
        "    negative_count = 0\n",
        "    for index in node.ids:\n",
        "      if self.y[index] == 1:\n",
        "        positive_count += 1\n",
        "      else:\n",
        "        negative_count += 1\n",
        "    \n",
        "    positive_prob = positive_count/len(node.ids)\n",
        "    negative_prob = negative_count/len(node.ids)\n",
        "\n",
        "    if positive_count == len(node.ids) or negative_count == len(node.ids):\n",
        "      node.entropy = 0\n",
        "    else:\n",
        "      node.entropy = -(positive_prob*math.log(positive_prob) + negative_prob*math.log(negative_prob))\n",
        "\n",
        "    return node.entropy\n",
        "\n",
        "  def set_label(self, node):\n",
        "    node.label = 1 if sum([self.y[index] for index in node.ids]) >= 0 else -1\n",
        "\n",
        "\n",
        "  def split(self, node, attribute):\n",
        "    split_value = None\n",
        "    best_information_gain = 0\n",
        "    children = []\n",
        "\n",
        "    split_value_set = set(list(filter(lambda index: self.X[index][attribute], node.ids)))\n",
        "    for value in split_value_set:\n",
        "      left_child = Node(ids=list(filter(lambda index: self.X[index][attribute] < value, node.ids)), depth=node.depth+1)\n",
        "      right_child = Node(ids=list(filter(lambda index: self.X[index][attribute] >= value, node.ids)), depth=node.depth+1)\n",
        "\n",
        "      if len(left_child.ids) == len(node.ids) or len(right_child.ids) == len(node.ids):\n",
        "        information_gain = 0\n",
        "      else:\n",
        "        information_gain = node.entropy - (len(left_child.ids)*self.entropy(left_child) + len(right_child.ids)*self.entropy(right_child)) / len(node.ids)\n",
        "\n",
        "      if information_gain > best_information_gain:\n",
        "        best_information_gain = information_gain\n",
        "        children = [left_child, right_child]\n",
        "        split_value = value\n",
        "\n",
        "    return best_information_gain, attribute, split_value, children\n",
        "\n",
        "\n",
        "\n",
        "  def split_node(self, node):\n",
        "    best_information_gain = 0\n",
        "    split_attribute = None\n",
        "    split_value = None\n",
        "    children = []\n",
        "\n",
        "    for attribute in range(len(self.X[0])):\n",
        "      information_gain, current_split_attribute, current_split_value, current_children = self.split(node, attribute)\n",
        "      if information_gain > best_information_gain:\n",
        "        best_information_gain = information_gain\n",
        "        split_attribute = current_split_attribute\n",
        "        split_value = current_split_value\n",
        "        children = current_children\n",
        "\n",
        "    node.set_state(split_attribute, split_value, children)\n",
        "\n",
        "\n",
        "  def build_tree(self):\n",
        "    # build tree in bfs manner\n",
        "    queue = [self.root]\n",
        "    while len(queue) != 0:\n",
        "      node = queue.pop(0)\n",
        "      if self.entropy(node) == 0 or node.depth >= self.max_depth: # leaf node\n",
        "        self.set_label(node)\n",
        "      else: # internal node\n",
        "        self.split_node(node)\n",
        "        if node.children == []:\n",
        "          self.set_label(node)\n",
        "        else:\n",
        "          for child in node.children:\n",
        "            queue.append(child)\n",
        "\n",
        "\n",
        "  def fit(self, X, y):\n",
        "    self.X = X.T.tolist()\n",
        "    self.y = y.tolist()[0]\n",
        "\n",
        "    ids = list(range(len(self.y)))\n",
        "    self.root = Node(ids=ids, depth=0)\n",
        "    \n",
        "    self.build_tree()\n",
        "\n",
        "  def __predict(self, x, node):\n",
        "    if node.label is not None:\n",
        "      return node.label\n",
        "\n",
        "    if x[node.split_attribute] >= node.split_value:\n",
        "      return self.__predict(x, node.children[1])\n",
        "    else:\n",
        "      return self.__predict(x, node.children[0])\n",
        "\n",
        "\n",
        "  def predict(self, x):\n",
        "    return self.__predict(x, self.root)\n",
        "\n",
        "  def test(self, X, y):\n",
        "    X_test = X.T.tolist()\n",
        "    predicts = np.zeros(y.shape)\n",
        "\n",
        "    for index in range(len(X_test)):\n",
        "      x = X_test[index]\n",
        "      predicts[0, index] = self.predict(x)\n",
        "\n",
        "    # calculate accurracy\n",
        "    f = np.frompyfunc(lambda x: x if x == 1 else 0,1,1)\n",
        "    num_correct_predicts = np.sum(f(predicts*y))\n",
        "    num_predicts = y.shape[1]\n",
        "    acc = num_correct_predicts / num_predicts\n",
        "\n",
        "    return predicts, acc\n",
        "\n",
        "        \n",
        "\n"
      ],
      "execution_count": 584,
      "outputs": []
    },
    {
      "cell_type": "markdown",
      "metadata": {
        "id": "lTfiSMWGNh4I"
      },
      "source": [
        "# Test Decision Tree model with banknote authentication dataset"
      ]
    },
    {
      "cell_type": "code",
      "metadata": {
        "id": "wmmIAKhhoRqL"
      },
      "source": [
        "banknote_dataset = pd.read_csv('drive/MyDrive/desktop/ADA/extra/data_banknote_authentication.txt', delimiter = \",\", header=None)"
      ],
      "execution_count": 585,
      "outputs": []
    },
    {
      "cell_type": "code",
      "metadata": {
        "colab": {
          "base_uri": "https://localhost:8080/",
          "height": 424
        },
        "id": "V4fMK93Jon2r",
        "outputId": "395f1759-fca4-462f-8e1f-db08753ec265"
      },
      "source": [
        "banknote_dataset"
      ],
      "execution_count": 586,
      "outputs": [
        {
          "output_type": "execute_result",
          "data": {
            "text/html": [
              "<div>\n",
              "<style scoped>\n",
              "    .dataframe tbody tr th:only-of-type {\n",
              "        vertical-align: middle;\n",
              "    }\n",
              "\n",
              "    .dataframe tbody tr th {\n",
              "        vertical-align: top;\n",
              "    }\n",
              "\n",
              "    .dataframe thead th {\n",
              "        text-align: right;\n",
              "    }\n",
              "</style>\n",
              "<table border=\"1\" class=\"dataframe\">\n",
              "  <thead>\n",
              "    <tr style=\"text-align: right;\">\n",
              "      <th></th>\n",
              "      <th>0</th>\n",
              "      <th>1</th>\n",
              "      <th>2</th>\n",
              "      <th>3</th>\n",
              "      <th>4</th>\n",
              "    </tr>\n",
              "  </thead>\n",
              "  <tbody>\n",
              "    <tr>\n",
              "      <th>0</th>\n",
              "      <td>3.62160</td>\n",
              "      <td>8.66610</td>\n",
              "      <td>-2.8073</td>\n",
              "      <td>-0.44699</td>\n",
              "      <td>0</td>\n",
              "    </tr>\n",
              "    <tr>\n",
              "      <th>1</th>\n",
              "      <td>4.54590</td>\n",
              "      <td>8.16740</td>\n",
              "      <td>-2.4586</td>\n",
              "      <td>-1.46210</td>\n",
              "      <td>0</td>\n",
              "    </tr>\n",
              "    <tr>\n",
              "      <th>2</th>\n",
              "      <td>3.86600</td>\n",
              "      <td>-2.63830</td>\n",
              "      <td>1.9242</td>\n",
              "      <td>0.10645</td>\n",
              "      <td>0</td>\n",
              "    </tr>\n",
              "    <tr>\n",
              "      <th>3</th>\n",
              "      <td>3.45660</td>\n",
              "      <td>9.52280</td>\n",
              "      <td>-4.0112</td>\n",
              "      <td>-3.59440</td>\n",
              "      <td>0</td>\n",
              "    </tr>\n",
              "    <tr>\n",
              "      <th>4</th>\n",
              "      <td>0.32924</td>\n",
              "      <td>-4.45520</td>\n",
              "      <td>4.5718</td>\n",
              "      <td>-0.98880</td>\n",
              "      <td>0</td>\n",
              "    </tr>\n",
              "    <tr>\n",
              "      <th>...</th>\n",
              "      <td>...</td>\n",
              "      <td>...</td>\n",
              "      <td>...</td>\n",
              "      <td>...</td>\n",
              "      <td>...</td>\n",
              "    </tr>\n",
              "    <tr>\n",
              "      <th>1367</th>\n",
              "      <td>0.40614</td>\n",
              "      <td>1.34920</td>\n",
              "      <td>-1.4501</td>\n",
              "      <td>-0.55949</td>\n",
              "      <td>1</td>\n",
              "    </tr>\n",
              "    <tr>\n",
              "      <th>1368</th>\n",
              "      <td>-1.38870</td>\n",
              "      <td>-4.87730</td>\n",
              "      <td>6.4774</td>\n",
              "      <td>0.34179</td>\n",
              "      <td>1</td>\n",
              "    </tr>\n",
              "    <tr>\n",
              "      <th>1369</th>\n",
              "      <td>-3.75030</td>\n",
              "      <td>-13.45860</td>\n",
              "      <td>17.5932</td>\n",
              "      <td>-2.77710</td>\n",
              "      <td>1</td>\n",
              "    </tr>\n",
              "    <tr>\n",
              "      <th>1370</th>\n",
              "      <td>-3.56370</td>\n",
              "      <td>-8.38270</td>\n",
              "      <td>12.3930</td>\n",
              "      <td>-1.28230</td>\n",
              "      <td>1</td>\n",
              "    </tr>\n",
              "    <tr>\n",
              "      <th>1371</th>\n",
              "      <td>-2.54190</td>\n",
              "      <td>-0.65804</td>\n",
              "      <td>2.6842</td>\n",
              "      <td>1.19520</td>\n",
              "      <td>1</td>\n",
              "    </tr>\n",
              "  </tbody>\n",
              "</table>\n",
              "<p>1372 rows × 5 columns</p>\n",
              "</div>"
            ],
            "text/plain": [
              "            0         1        2        3  4\n",
              "0     3.62160   8.66610  -2.8073 -0.44699  0\n",
              "1     4.54590   8.16740  -2.4586 -1.46210  0\n",
              "2     3.86600  -2.63830   1.9242  0.10645  0\n",
              "3     3.45660   9.52280  -4.0112 -3.59440  0\n",
              "4     0.32924  -4.45520   4.5718 -0.98880  0\n",
              "...       ...       ...      ...      ... ..\n",
              "1367  0.40614   1.34920  -1.4501 -0.55949  1\n",
              "1368 -1.38870  -4.87730   6.4774  0.34179  1\n",
              "1369 -3.75030 -13.45860  17.5932 -2.77710  1\n",
              "1370 -3.56370  -8.38270  12.3930 -1.28230  1\n",
              "1371 -2.54190  -0.65804   2.6842  1.19520  1\n",
              "\n",
              "[1372 rows x 5 columns]"
            ]
          },
          "metadata": {
            "tags": []
          },
          "execution_count": 586
        }
      ]
    },
    {
      "cell_type": "code",
      "metadata": {
        "id": "eHMyk9zRpnqA"
      },
      "source": [
        "banknote_X = banknote_dataset.iloc[:,:-1].to_numpy()\n",
        "banknote_y = banknote_dataset.iloc[:,-1].to_numpy()\n",
        "banknote_y = np.where(banknote_y == 0, -1, banknote_y)"
      ],
      "execution_count": 587,
      "outputs": []
    },
    {
      "cell_type": "code",
      "metadata": {
        "id": "cv8iNm08jp4U"
      },
      "source": [
        "banknote_X_train, banknote_X_test, banknote_y_train, banknote_y_test = train_test_split(banknote_X, banknote_y)\n",
        "banknote_X_train = banknote_X_train.T\n",
        "banknote_X_test = banknote_X_test.T\n",
        "banknote_y_train = banknote_y_train.reshape(1, banknote_y_train.shape[0])\n",
        "banknote_y_test = banknote_y_test.reshape(1, banknote_y_test.shape[0])"
      ],
      "execution_count": 588,
      "outputs": []
    },
    {
      "cell_type": "code",
      "metadata": {
        "colab": {
          "base_uri": "https://localhost:8080/"
        },
        "id": "ZbY0Ttdam6Q2",
        "outputId": "f5578d2b-1092-46e3-99e4-8adafa5c2e9e"
      },
      "source": [
        "print(banknote_X_train.shape)\n",
        "print(banknote_y_train.shape)\n",
        "print(banknote_X_test.shape)\n",
        "print(banknote_y_test.shape)"
      ],
      "execution_count": 589,
      "outputs": [
        {
          "output_type": "stream",
          "text": [
            "(4, 1029)\n",
            "(1, 1029)\n",
            "(4, 343)\n",
            "(1, 343)\n"
          ],
          "name": "stdout"
        }
      ]
    },
    {
      "cell_type": "code",
      "metadata": {
        "id": "L_e-JTDwljsd"
      },
      "source": [
        "dt_model = DecisionTree(max_depth=10)\n",
        "dt_model.fit(banknote_X_train, banknote_y_train)"
      ],
      "execution_count": 590,
      "outputs": []
    },
    {
      "cell_type": "code",
      "metadata": {
        "id": "FzhrSrXDd6pN"
      },
      "source": [
        "predicts, acc = dt_model.test(banknote_X_test, banknote_y_test)"
      ],
      "execution_count": 591,
      "outputs": []
    },
    {
      "cell_type": "code",
      "metadata": {
        "colab": {
          "base_uri": "https://localhost:8080/"
        },
        "id": "EJdSLGMuidxB",
        "outputId": "0e2bab79-70c7-45d0-c579-9bdff23f1661"
      },
      "source": [
        "acc"
      ],
      "execution_count": 592,
      "outputs": [
        {
          "output_type": "execute_result",
          "data": {
            "text/plain": [
              "0.8892128279883382"
            ]
          },
          "metadata": {
            "tags": []
          },
          "execution_count": 592
        }
      ]
    },
    {
      "cell_type": "code",
      "metadata": {
        "colab": {
          "base_uri": "https://localhost:8080/"
        },
        "id": "hOim5bmH8UbE",
        "outputId": "57a6d1c7-ee92-48ac-a19b-a62aaab63b4f"
      },
      "source": [
        "model = SVM()\n",
        "model.fit(banknote_X_train, banknote_y_train)"
      ],
      "execution_count": 593,
      "outputs": [
        {
          "output_type": "stream",
          "text": [
            "Acc: 0.15743440233236153\n",
            "Acc: 0.9883381924198251\n",
            "Acc: 0.9883381924198251\n",
            "Acc: 0.9912536443148688\n",
            "Acc: 0.9912536443148688\n",
            "Acc: 0.989310009718173\n",
            "Acc: 0.9902818270165209\n",
            "Acc: 0.9902818270165209\n",
            "Acc: 0.9883381924198251\n",
            "Acc: 0.9883381924198251\n"
          ],
          "name": "stdout"
        }
      ]
    },
    {
      "cell_type": "code",
      "metadata": {
        "id": "ZFnARCIf8lvk"
      },
      "source": [
        "predicts, acc = model.predict(banknote_X_test, banknote_y_test)"
      ],
      "execution_count": 594,
      "outputs": []
    },
    {
      "cell_type": "code",
      "metadata": {
        "colab": {
          "base_uri": "https://localhost:8080/"
        },
        "id": "ud2YKnC78y5S",
        "outputId": "4e75d606-77e7-4241-ebd5-2fbc3a37db78"
      },
      "source": [
        "acc"
      ],
      "execution_count": 595,
      "outputs": [
        {
          "output_type": "execute_result",
          "data": {
            "text/plain": [
              "0.9825072886297376"
            ]
          },
          "metadata": {
            "tags": []
          },
          "execution_count": 595
        }
      ]
    },
    {
      "cell_type": "code",
      "metadata": {
        "id": "Dwwrsu0d80e7"
      },
      "source": [
        "model = kNN()\n",
        "model.fit(banknote_X_train, banknote_y_train)\n",
        "predicts, acc = model.predict(banknote_X_test, banknote_y_test)"
      ],
      "execution_count": 596,
      "outputs": []
    },
    {
      "cell_type": "code",
      "metadata": {
        "colab": {
          "base_uri": "https://localhost:8080/"
        },
        "id": "ac4Ycd989Gyo",
        "outputId": "b29b731d-fab9-4fcd-ea13-86078756647d"
      },
      "source": [
        "acc"
      ],
      "execution_count": 597,
      "outputs": [
        {
          "output_type": "execute_result",
          "data": {
            "text/plain": [
              "0.9970845481049563"
            ]
          },
          "metadata": {
            "tags": []
          },
          "execution_count": 597
        }
      ]
    }
  ]
}