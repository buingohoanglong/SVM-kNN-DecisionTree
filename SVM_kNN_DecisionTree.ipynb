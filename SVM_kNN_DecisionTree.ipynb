{
  "nbformat": 4,
  "nbformat_minor": 0,
  "metadata": {
    "colab": {
      "name": "SVM-kNN-DecisionTree.ipynb",
      "provenance": [],
      "collapsed_sections": [
        "Z8IFQGArFPox",
        "lYxF0__qFVnl",
        "NJ2XK0vuMjdP",
        "6aE4RcNVRA6K",
        "kQvkx1E9nDID"
      ],
      "authorship_tag": "ABX9TyMlEFyMCNoF0r60nQ0i+/cO",
      "include_colab_link": true
    },
    "kernelspec": {
      "name": "python3",
      "display_name": "Python 3"
    },
    "language_info": {
      "name": "python"
    }
  },
  "cells": [
    {
      "cell_type": "markdown",
      "metadata": {
        "id": "view-in-github",
        "colab_type": "text"
      },
      "source": [
        "<a href=\"https://colab.research.google.com/github/buingohoanglong/SVM-kNN-DecisionTree/blob/main/SVM_kNN_DecisionTree.ipynb\" target=\"_parent\"><img src=\"https://colab.research.google.com/assets/colab-badge.svg\" alt=\"Open In Colab\"/></a>"
      ]
    },
    {
      "cell_type": "markdown",
      "metadata": {
        "id": "Z8IFQGArFPox"
      },
      "source": [
        "# I. Load data"
      ]
    },
    {
      "cell_type": "code",
      "metadata": {
        "id": "fewsmCK58j9y",
        "colab": {
          "base_uri": "https://localhost:8080/"
        },
        "outputId": "7272172d-921a-46d3-e467-6a22322d3603"
      },
      "source": [
        "from google.colab import drive\n",
        "drive.mount('/content/drive')"
      ],
      "execution_count": 1,
      "outputs": [
        {
          "output_type": "stream",
          "text": [
            "Mounted at /content/drive\n"
          ],
          "name": "stdout"
        }
      ]
    },
    {
      "cell_type": "code",
      "metadata": {
        "id": "Q_fNmheFLOhe",
        "colab": {
          "base_uri": "https://localhost:8080/"
        },
        "outputId": "a3b16b28-a578-4ae8-b08f-9419066d5481"
      },
      "source": [
        "!ls"
      ],
      "execution_count": 220,
      "outputs": [
        {
          "output_type": "stream",
          "text": [
            "drive  sample_data\n"
          ],
          "name": "stdout"
        }
      ]
    },
    {
      "cell_type": "code",
      "metadata": {
        "id": "xUSW9pXb9f9v"
      },
      "source": [
        "import pandas as pd"
      ],
      "execution_count": 221,
      "outputs": []
    },
    {
      "cell_type": "code",
      "metadata": {
        "id": "7bTVKFyK9lmr"
      },
      "source": [
        "dataset = pd.read_csv('drive/MyDrive/desktop/ADA/extra/spam_ham_dataset.csv')"
      ],
      "execution_count": 222,
      "outputs": []
    },
    {
      "cell_type": "code",
      "metadata": {
        "colab": {
          "base_uri": "https://localhost:8080/",
          "height": 424
        },
        "id": "yiwSzdfh93RE",
        "outputId": "ec642886-c6f9-43d3-f982-591a3e6f9ee4"
      },
      "source": [
        "dataset"
      ],
      "execution_count": 223,
      "outputs": [
        {
          "output_type": "execute_result",
          "data": {
            "text/html": [
              "<div>\n",
              "<style scoped>\n",
              "    .dataframe tbody tr th:only-of-type {\n",
              "        vertical-align: middle;\n",
              "    }\n",
              "\n",
              "    .dataframe tbody tr th {\n",
              "        vertical-align: top;\n",
              "    }\n",
              "\n",
              "    .dataframe thead th {\n",
              "        text-align: right;\n",
              "    }\n",
              "</style>\n",
              "<table border=\"1\" class=\"dataframe\">\n",
              "  <thead>\n",
              "    <tr style=\"text-align: right;\">\n",
              "      <th></th>\n",
              "      <th>Unnamed: 0</th>\n",
              "      <th>label</th>\n",
              "      <th>text</th>\n",
              "      <th>label_num</th>\n",
              "    </tr>\n",
              "  </thead>\n",
              "  <tbody>\n",
              "    <tr>\n",
              "      <th>0</th>\n",
              "      <td>605</td>\n",
              "      <td>ham</td>\n",
              "      <td>Subject: enron methanol ; meter # : 988291\\r\\n...</td>\n",
              "      <td>0</td>\n",
              "    </tr>\n",
              "    <tr>\n",
              "      <th>1</th>\n",
              "      <td>2349</td>\n",
              "      <td>ham</td>\n",
              "      <td>Subject: hpl nom for january 9 , 2001\\r\\n( see...</td>\n",
              "      <td>0</td>\n",
              "    </tr>\n",
              "    <tr>\n",
              "      <th>2</th>\n",
              "      <td>3624</td>\n",
              "      <td>ham</td>\n",
              "      <td>Subject: neon retreat\\r\\nho ho ho , we ' re ar...</td>\n",
              "      <td>0</td>\n",
              "    </tr>\n",
              "    <tr>\n",
              "      <th>3</th>\n",
              "      <td>4685</td>\n",
              "      <td>spam</td>\n",
              "      <td>Subject: photoshop , windows , office . cheap ...</td>\n",
              "      <td>1</td>\n",
              "    </tr>\n",
              "    <tr>\n",
              "      <th>4</th>\n",
              "      <td>2030</td>\n",
              "      <td>ham</td>\n",
              "      <td>Subject: re : indian springs\\r\\nthis deal is t...</td>\n",
              "      <td>0</td>\n",
              "    </tr>\n",
              "    <tr>\n",
              "      <th>...</th>\n",
              "      <td>...</td>\n",
              "      <td>...</td>\n",
              "      <td>...</td>\n",
              "      <td>...</td>\n",
              "    </tr>\n",
              "    <tr>\n",
              "      <th>5166</th>\n",
              "      <td>1518</td>\n",
              "      <td>ham</td>\n",
              "      <td>Subject: put the 10 on the ft\\r\\nthe transport...</td>\n",
              "      <td>0</td>\n",
              "    </tr>\n",
              "    <tr>\n",
              "      <th>5167</th>\n",
              "      <td>404</td>\n",
              "      <td>ham</td>\n",
              "      <td>Subject: 3 / 4 / 2000 and following noms\\r\\nhp...</td>\n",
              "      <td>0</td>\n",
              "    </tr>\n",
              "    <tr>\n",
              "      <th>5168</th>\n",
              "      <td>2933</td>\n",
              "      <td>ham</td>\n",
              "      <td>Subject: calpine daily gas nomination\\r\\n&gt;\\r\\n...</td>\n",
              "      <td>0</td>\n",
              "    </tr>\n",
              "    <tr>\n",
              "      <th>5169</th>\n",
              "      <td>1409</td>\n",
              "      <td>ham</td>\n",
              "      <td>Subject: industrial worksheets for august 2000...</td>\n",
              "      <td>0</td>\n",
              "    </tr>\n",
              "    <tr>\n",
              "      <th>5170</th>\n",
              "      <td>4807</td>\n",
              "      <td>spam</td>\n",
              "      <td>Subject: important online banking alert\\r\\ndea...</td>\n",
              "      <td>1</td>\n",
              "    </tr>\n",
              "  </tbody>\n",
              "</table>\n",
              "<p>5171 rows × 4 columns</p>\n",
              "</div>"
            ],
            "text/plain": [
              "      Unnamed: 0  ... label_num\n",
              "0            605  ...         0\n",
              "1           2349  ...         0\n",
              "2           3624  ...         0\n",
              "3           4685  ...         1\n",
              "4           2030  ...         0\n",
              "...          ...  ...       ...\n",
              "5166        1518  ...         0\n",
              "5167         404  ...         0\n",
              "5168        2933  ...         0\n",
              "5169        1409  ...         0\n",
              "5170        4807  ...         1\n",
              "\n",
              "[5171 rows x 4 columns]"
            ]
          },
          "metadata": {
            "tags": []
          },
          "execution_count": 223
        }
      ]
    },
    {
      "cell_type": "code",
      "metadata": {
        "id": "pEIOd30J-8ng"
      },
      "source": [
        "data_X = dataset['text']\n",
        "data_y = dataset['label_num']"
      ],
      "execution_count": 224,
      "outputs": []
    },
    {
      "cell_type": "code",
      "metadata": {
        "id": "EKG5ve_z_X53"
      },
      "source": [
        "data_X"
      ],
      "execution_count": null,
      "outputs": []
    },
    {
      "cell_type": "code",
      "metadata": {
        "id": "FD-fR4r4_btR"
      },
      "source": [
        "data_y"
      ],
      "execution_count": null,
      "outputs": []
    },
    {
      "cell_type": "code",
      "metadata": {
        "id": "6DlTQGp8A-vz"
      },
      "source": [
        "import nltk\n",
        "nltk.download('punkt')\n",
        "nltk.download('stopwords')"
      ],
      "execution_count": null,
      "outputs": []
    },
    {
      "cell_type": "code",
      "metadata": {
        "id": "OPpUPaEbBVy_"
      },
      "source": [
        "from nltk.tokenize import word_tokenize\n",
        "from nltk.corpus import stopwords\n",
        "import re"
      ],
      "execution_count": 226,
      "outputs": []
    },
    {
      "cell_type": "code",
      "metadata": {
        "id": "z_nBCo2fDRlg"
      },
      "source": [
        "def text_cleaner(text):\n",
        "    text = text.lower() # lower case text\n",
        "    text = re.sub(r\"'s\\b\",\"\",text)  # remove 's at the end of each word\n",
        "    # remove punctuations\n",
        "    text = re.sub(\"[^a-zA-Z]\", \" \", text) # how about numbers ???\n",
        "    return text"
      ],
      "execution_count": 227,
      "outputs": []
    },
    {
      "cell_type": "code",
      "metadata": {
        "id": "RsZqjklL_1m9"
      },
      "source": [
        "def preprocess(sentence):\n",
        "  sentence = text_cleaner(sentence)\n",
        "  tokens = word_tokenize(sentence)\n",
        "  stop_words = set(stopwords.words('english'))\n",
        "  tokens = [tk for tk in tokens if not tk in stop_words]\n",
        "  return tokens"
      ],
      "execution_count": 228,
      "outputs": []
    },
    {
      "cell_type": "code",
      "metadata": {
        "id": "HqcsXG_XAwnq"
      },
      "source": [
        "sentences = [preprocess(s) for s in data_X]"
      ],
      "execution_count": 229,
      "outputs": []
    },
    {
      "cell_type": "code",
      "metadata": {
        "id": "hal8q52JD3BD"
      },
      "source": [
        "labels = [l if l == 1 else -1 for l in data_y]"
      ],
      "execution_count": 230,
      "outputs": []
    },
    {
      "cell_type": "markdown",
      "metadata": {
        "id": "lYxF0__qFVnl"
      },
      "source": [
        "# II. Load google pretrained word2vec"
      ]
    },
    {
      "cell_type": "code",
      "metadata": {
        "id": "oV8TRwvfEGtl",
        "colab": {
          "base_uri": "https://localhost:8080/"
        },
        "outputId": "c72143a7-25ae-4e03-f9c1-3c2055aeade3"
      },
      "source": [
        "import gensim.downloader as api\n",
        "path = api.load(\"word2vec-google-news-300\", return_path=True)"
      ],
      "execution_count": 13,
      "outputs": [
        {
          "output_type": "stream",
          "text": [
            "[==================================================] 100.0% 1662.8/1662.8MB downloaded\n"
          ],
          "name": "stdout"
        }
      ]
    },
    {
      "cell_type": "code",
      "metadata": {
        "colab": {
          "base_uri": "https://localhost:8080/"
        },
        "id": "at3lwOkwK6an",
        "outputId": "d1b0019b-109c-4afe-9426-0190a699a194"
      },
      "source": [
        "print(path)"
      ],
      "execution_count": 14,
      "outputs": [
        {
          "output_type": "stream",
          "text": [
            "/root/gensim-data/word2vec-google-news-300/word2vec-google-news-300.gz\n"
          ],
          "name": "stdout"
        }
      ]
    },
    {
      "cell_type": "code",
      "metadata": {
        "id": "_zQo5ti6Lr1d"
      },
      "source": [
        "import gensim\n",
        "from gensim.models import Word2Vec\n",
        "from gensim.utils import simple_preprocess\n",
        "\n",
        "from gensim.models.keyedvectors import KeyedVectors\n",
        "\n",
        "word_vectors = KeyedVectors.load_word2vec_format(path, binary=True)"
      ],
      "execution_count": 15,
      "outputs": []
    },
    {
      "cell_type": "code",
      "metadata": {
        "id": "bGUOAFP_MUsW"
      },
      "source": [
        "word_vectors['facebook'].shape"
      ],
      "execution_count": null,
      "outputs": []
    },
    {
      "cell_type": "markdown",
      "metadata": {
        "id": "NJ2XK0vuMjdP"
      },
      "source": [
        "# III. Prepare data"
      ]
    },
    {
      "cell_type": "code",
      "metadata": {
        "id": "Vb7h-20hOUqy"
      },
      "source": [
        "import numpy as np"
      ],
      "execution_count": 235,
      "outputs": []
    },
    {
      "cell_type": "code",
      "metadata": {
        "id": "NoNDN19ON_h3"
      },
      "source": [
        "EMBEDDING_DIM = 300"
      ],
      "execution_count": 236,
      "outputs": []
    },
    {
      "cell_type": "code",
      "metadata": {
        "id": "UsEQ1ovDOPln"
      },
      "source": [
        "X = np.zeros((len(sentences),EMBEDDING_DIM))"
      ],
      "execution_count": 237,
      "outputs": []
    },
    {
      "cell_type": "code",
      "metadata": {
        "id": "rzqiea1tMrk1"
      },
      "source": [
        "index = 0\n",
        "for sentence in sentences:\n",
        "  for token in sentence:\n",
        "    try:\n",
        "      embedding_vector = word_vectors[token]\n",
        "      X[index] += embedding_vector\n",
        "    except KeyError:\n",
        "      X[index] += np.random.normal(0,np.sqrt(0.25),EMBEDDING_DIM)\n",
        "  index += 1"
      ],
      "execution_count": 238,
      "outputs": []
    },
    {
      "cell_type": "code",
      "metadata": {
        "id": "uwdoMSojPhZQ"
      },
      "source": [
        "print(X[0])"
      ],
      "execution_count": null,
      "outputs": []
    },
    {
      "cell_type": "code",
      "metadata": {
        "id": "Zl1LN_aYPx35"
      },
      "source": [
        "from sklearn.model_selection import train_test_split"
      ],
      "execution_count": 239,
      "outputs": []
    },
    {
      "cell_type": "code",
      "metadata": {
        "id": "4XHu3zgZP4Zq"
      },
      "source": [
        "X_train, X_test, y_train, y_test = train_test_split(X, np.array(labels))\n",
        "X_train = X_train.T\n",
        "X_test = X_test.T\n",
        "y_train = y_train.reshape(1, y_train.shape[0])\n",
        "y_test = y_test.reshape(1, y_test.shape[0])"
      ],
      "execution_count": 248,
      "outputs": []
    },
    {
      "cell_type": "code",
      "metadata": {
        "colab": {
          "base_uri": "https://localhost:8080/"
        },
        "id": "2ctFPyy2QitR",
        "outputId": "8db07dcd-525c-457a-93e4-75b57b492ec5"
      },
      "source": [
        "print(X_train.shape)\n",
        "print(y_train.shape)\n",
        "print(X_test.shape)\n",
        "print(y_test.shape)"
      ],
      "execution_count": 249,
      "outputs": [
        {
          "output_type": "stream",
          "text": [
            "(300, 3878)\n",
            "(1, 3878)\n",
            "(300, 1293)\n",
            "(1, 1293)\n"
          ],
          "name": "stdout"
        }
      ]
    },
    {
      "cell_type": "markdown",
      "metadata": {
        "id": "6aE4RcNVRA6K"
      },
      "source": [
        "# IV. Soft Margin SVM model"
      ]
    },
    {
      "cell_type": "code",
      "metadata": {
        "id": "gkYOsI8O_9of"
      },
      "source": [
        "class SVM:\n",
        "  def __init__(self):\n",
        "    self.weights = None\n",
        "\n",
        "  def calculate_accurracy(self, predicts, y):\n",
        "    f = np.frompyfunc(lambda x: x if x == 1 else 0,1,1)\n",
        "    num_correct_predicts = np.sum(f(predicts*y))\n",
        "    num_predicts = y.shape[1]\n",
        "    acc = num_correct_predicts / num_predicts\n",
        "    return acc\n",
        "\n",
        "  def has_positive_hinge_loss(self, w_bar, x_bar, y):\n",
        "    f = np.frompyfunc(lambda x: 1 if x > 0 else 0, 1, 1)\n",
        "    return f(1 - y*w_bar.T.dot(x_bar))\n",
        "\n",
        "  def fit(self, X, y, learning_rate=0.001, ld=1, loops=1000):\n",
        "    X_bar = np.concatenate((X, np.ones((1, X.shape[1]))), axis=0) # extend\n",
        "    self.weights = np.ones((X_bar.shape[0], 1)) # extend\n",
        "\n",
        "    for i in range(loops):\n",
        "      if i%100 == 0:\n",
        "        predicts, acc = self.predict(X,y)\n",
        "        print(f\"Acc: {acc}\")\n",
        "        \n",
        "      temp = self.has_positive_hinge_loss(self.weights, X_bar, y)\n",
        "      regularization_gradient = ld * np.concatenate((self.weights[:-1], np.array([[0]])), axis=0)\n",
        "      hinge_gradient = np.sum(-temp*y*X_bar, axis=1).reshape(X_bar.shape[0], 1)\n",
        "      self.weights = self.weights - learning_rate * ( hinge_gradient + regularization_gradient )\n",
        "\n",
        "\n",
        "  def predict(self, X, y=None):\n",
        "    X_bar = np.concatenate((X, np.ones((1, X.shape[1]))), axis=0) # extend\n",
        "    predicts = np.sign(self.weights.T.dot(X_bar))\n",
        "\n",
        "    if y is not None: # used for test purpose\n",
        "      # calculate accurracy\n",
        "      acc = self.calculate_accurracy(predicts, y)\n",
        "      return predicts, acc\n",
        "    else:\n",
        "      return predicts\n",
        "\n",
        "  def save(self, file_name):\n",
        "    with open(file_name, 'wb') as f:\n",
        "      np.save(f, self.weights)\n",
        "\n",
        "  def load(self, file_name):\n",
        "    with open(file_name, 'rb') as f:\n",
        "      self.weights = np.load(f, allow_pickle=True)\n",
        "  "
      ],
      "execution_count": 250,
      "outputs": []
    },
    {
      "cell_type": "code",
      "metadata": {
        "colab": {
          "base_uri": "https://localhost:8080/"
        },
        "id": "CfxKqpiUCSOP",
        "outputId": "0d7033fa-fd53-4b83-a1e3-e9f88a26bf6f"
      },
      "source": [
        "svm_model = SVM()\n",
        "svm_model.fit(X_train, y_train)"
      ],
      "execution_count": 251,
      "outputs": [
        {
          "output_type": "stream",
          "text": [
            "Acc: 0.6428571428571429\n",
            "Acc: 0.9339865910263022\n",
            "Acc: 0.9381124290871583\n",
            "Acc: 0.943011861784425\n",
            "Acc: 0.9489427539969056\n",
            "Acc: 0.9507478081485302\n",
            "Acc: 0.9507478081485302\n",
            "Acc: 0.9535843218153688\n",
            "Acc: 0.9476534296028881\n",
            "Acc: 0.9530685920577617\n"
          ],
          "name": "stdout"
        }
      ]
    },
    {
      "cell_type": "code",
      "metadata": {
        "id": "lvWQuci8DQFw"
      },
      "source": [
        "svm_model.save('drive/MyDrive/desktop/ADA/extra/weights.npy')"
      ],
      "execution_count": 252,
      "outputs": []
    },
    {
      "cell_type": "code",
      "metadata": {
        "id": "BGkgMBDhDajp"
      },
      "source": [
        "svm_model.load('drive/MyDrive/desktop/ADA/extra/weights.npy')"
      ],
      "execution_count": 253,
      "outputs": []
    },
    {
      "cell_type": "code",
      "metadata": {
        "id": "KDE2_bqLDnIk"
      },
      "source": [
        "predicts, acc = svm_model.predict(X_test, y_test)"
      ],
      "execution_count": 254,
      "outputs": []
    },
    {
      "cell_type": "code",
      "metadata": {
        "colab": {
          "base_uri": "https://localhost:8080/"
        },
        "id": "5ihwFVsZG5Oq",
        "outputId": "c6e1e755-ecd4-42bc-b7a3-d4fffacb3e91"
      },
      "source": [
        "acc"
      ],
      "execution_count": 255,
      "outputs": [
        {
          "output_type": "execute_result",
          "data": {
            "text/plain": [
              "0.9234338747099768"
            ]
          },
          "metadata": {
            "tags": []
          },
          "execution_count": 255
        }
      ]
    },
    {
      "cell_type": "markdown",
      "metadata": {
        "id": "kQvkx1E9nDID"
      },
      "source": [
        "# V. kNN model"
      ]
    },
    {
      "cell_type": "code",
      "metadata": {
        "id": "P2lRSpO0HK67"
      },
      "source": [
        "class kNN:\n",
        "  def __init__(self):\n",
        "    self.X_train = None\n",
        "    self.y_train = None\n",
        "\n",
        "  def calculate_accurracy(self, predicts, y):\n",
        "    f = np.frompyfunc(lambda x: x if x == 1 else 0,1,1)\n",
        "    num_correct_predicts = np.sum(f(predicts*y))\n",
        "    num_predicts = y.shape[1]\n",
        "    acc = num_correct_predicts / num_predicts\n",
        "    return acc\n",
        "  \n",
        "  def euclidean_distance(self, x, X):\n",
        "    return np.sum((x - X)**2, axis=0)\n",
        "\n",
        "  def voting(self, k_nearest, distances, labels):\n",
        "    scores = np.zeros((2,1))\n",
        "    for neighbour in k_nearest:\n",
        "      d = distances[neighbour]\n",
        "      if d == 0:\n",
        "        return labels[:,neighbour]\n",
        "\n",
        "      if labels[:,neighbour] == 1:\n",
        "        scores[0] += 1/d\n",
        "      else:\n",
        "        scores[1] += 1/d\n",
        "\n",
        "    return 1 if scores[0] > scores[1] else -1\n",
        "\n",
        "  def fit(self, X, y):\n",
        "    self.X = X\n",
        "    self.y = y\n",
        "\n",
        "  def predict(self, X_test, y_test=None, k=10):\n",
        "    predicts = np.zeros((1, y_test.shape[1]))\n",
        "    for i in range(X_test.shape[1]):\n",
        "      x = X_test[:,i].reshape((X_test.shape[0], 1))\n",
        "      distances = self.euclidean_distance(x, self.X)\n",
        "      k_nearest = np.argpartition(distances, k)\n",
        "      predicts[:,i] = self.voting(k_nearest, distances, self.y)\n",
        "\n",
        "    if y_test is not None:  # used for test purpose\n",
        "      acc = self.calculate_accurracy(predicts, y_test)\n",
        "      return predicts, acc\n",
        "    else:\n",
        "      return predicts\n",
        "  "
      ],
      "execution_count": 256,
      "outputs": []
    },
    {
      "cell_type": "code",
      "metadata": {
        "id": "V0ylxyMcItQU"
      },
      "source": [
        "knn_model = kNN()\n",
        "knn_model.fit(X_train, y_train)\n",
        "predicts, acc = knn_model.predict(X_test, y_test)"
      ],
      "execution_count": 257,
      "outputs": []
    },
    {
      "cell_type": "code",
      "metadata": {
        "colab": {
          "base_uri": "https://localhost:8080/"
        },
        "id": "-ccyHYD9JvEj",
        "outputId": "66b60535-192c-4d7c-9817-0694b41d0ad9"
      },
      "source": [
        "acc"
      ],
      "execution_count": 258,
      "outputs": [
        {
          "output_type": "execute_result",
          "data": {
            "text/plain": [
              "0.7138437741686001"
            ]
          },
          "metadata": {
            "tags": []
          },
          "execution_count": 258
        }
      ]
    },
    {
      "cell_type": "markdown",
      "metadata": {
        "id": "dS-774PP-57d"
      },
      "source": [
        "# VI. Decision Tree model"
      ]
    },
    {
      "cell_type": "code",
      "metadata": {
        "id": "l82P1j-7_B-A"
      },
      "source": [
        "class Node:\n",
        "  def __init__(self, ids, depth):\n",
        "    self.ids = ids # index of datapoint in dataset\n",
        "    self.entropy = None\n",
        "\n",
        "    # leaf node attribute\n",
        "    self.label = None\n",
        "\n",
        "    # internal node attribute\n",
        "    self.split_attribute = None # index of attribute to split at this node\n",
        "    self.split_value = None # value to be split at self.slit_attribute\n",
        "    self.children = []  # list of child nodes (left and right)\n",
        "\n",
        "    self.depth = depth\n",
        "\n",
        "  def set_state(self, split_attribute, split_value, children):\n",
        "    self.split_attribute = split_attribute\n",
        "    self.split_value = split_value\n",
        "    self.children = children"
      ],
      "execution_count": 259,
      "outputs": []
    },
    {
      "cell_type": "code",
      "metadata": {
        "id": "iNKMI03P_GUK"
      },
      "source": [
        "from functools import *\n",
        "import math\n",
        "\n",
        "class DecisionTree:\n",
        "  def __init__(self, max_depth):\n",
        "    self.X = None # list of data point, each data point is a list of attributes (write in row)\n",
        "    self.y = None  # list of labels\n",
        "\n",
        "    self.root = None\n",
        "\n",
        "    self.max_depth = max_depth\n",
        "\n",
        "\n",
        "  def entropy(self, node):\n",
        "    labels, counts = np.unique(self.y[:,node.ids], return_counts=True)\n",
        "    probs = counts / node.ids.shape[0]\n",
        "    node.entropy = 0 if np.any(probs == 0) else -np.sum(probs*np.log(probs))\n",
        "    return node.entropy\n",
        "\n",
        "\n",
        "  def set_label(self, node):\n",
        "    labels, counts = np.unique(self.y[:,node.ids], return_counts=True)\n",
        "    node.label = labels[counts.argmax()]\n",
        "\n",
        "\n",
        "  def split(self, node, attribute):\n",
        "    split_value = None\n",
        "    best_information_gain = 0\n",
        "    children = []\n",
        "\n",
        "    X_concat = np.concatenate((self.X[node.ids],self.y[:,node.ids].T,node.ids.reshape((1,-1)).T), axis=1)\n",
        "    X_concat_sorted = X_concat[np.argsort(X_concat[:, attribute])]\n",
        "\n",
        "    split_value_set = np.unique(X_concat_sorted[:,attribute])\n",
        "    for value in split_value_set:\n",
        "      i = X_concat_sorted[:,attribute].searchsorted(value)\n",
        "      left_ids, right_ids = X_concat_sorted[:i,-1].astype(int), X_concat_sorted[i:,-1].astype(int)\n",
        "      left_child = Node(ids=left_ids, depth=node.depth+1)\n",
        "      right_child = Node(ids=right_ids, depth=node.depth+1)\n",
        "\n",
        "      if left_child.ids.shape[0] == node.ids.shape[0] or right_child.ids.shape[0] == node.ids.shape[0]:\n",
        "        information_gain = 0\n",
        "      else:\n",
        "        information_gain = node.entropy - (left_child.ids.shape[0]*self.entropy(left_child) + right_child.ids.shape[0]*self.entropy(right_child)) / node.ids.shape[0]\n",
        "\n",
        "      if information_gain > best_information_gain:\n",
        "        best_information_gain = information_gain\n",
        "        children = [left_child, right_child]\n",
        "        split_value = value\n",
        "\n",
        "    return best_information_gain, attribute, split_value, children\n",
        "\n",
        "\n",
        "\n",
        "  def split_node(self, node):\n",
        "    best_information_gain = 0\n",
        "    split_attribute = None\n",
        "    split_value = None\n",
        "    children = []\n",
        "\n",
        "    for attribute in range(self.X.shape[1]):\n",
        "      information_gain, current_split_attribute, current_split_value, current_children = self.split(node, attribute)\n",
        "      if information_gain > best_information_gain:\n",
        "        best_information_gain = information_gain\n",
        "        split_attribute = current_split_attribute\n",
        "        split_value = current_split_value\n",
        "        children = current_children\n",
        "\n",
        "    node.set_state(split_attribute, split_value, children)\n",
        "\n",
        "\n",
        "  def build_tree(self):\n",
        "    # build tree in bfs manner\n",
        "    queue = [self.root]\n",
        "    while len(queue) != 0:\n",
        "      node = queue.pop(0)\n",
        "      if self.entropy(node) == 0 or node.depth >= self.max_depth: # leaf node\n",
        "        self.set_label(node)\n",
        "      else: # internal node\n",
        "        self.split_node(node)\n",
        "        if node.children == []:\n",
        "          self.set_label(node)\n",
        "        else:\n",
        "          for child in node.children:\n",
        "            queue.append(child)\n",
        "\n",
        "\n",
        "  def fit(self, X, y):\n",
        "    self.X = X.T # (num data, num attr)\n",
        "    self.y = y  # (1, num data)\n",
        "\n",
        "    print(f\"X shape: {self.X.shape}\")\n",
        "    print(f\"y shape: {self.y.shape}\")\n",
        "\n",
        "    ids = np.arange(self.y.shape[1], dtype=int)\n",
        "    print(f\"ids shape: {ids.shape}\")\n",
        "    self.root = Node(ids=ids, depth=0)\n",
        "    \n",
        "    self.build_tree()\n",
        "\n",
        "\n",
        "  def __predict(self, x, node):\n",
        "    if node.label is not None:\n",
        "      return node.label\n",
        "\n",
        "    if x[node.split_attribute] >= node.split_value:\n",
        "      return self.__predict(x, node.children[1])\n",
        "    else:\n",
        "      return self.__predict(x, node.children[0])\n",
        "\n",
        "\n",
        "  def predict(self, x):\n",
        "    return self.__predict(x, self.root)\n",
        "\n",
        "  def test(self, X, y):\n",
        "    X_test = X.T\n",
        "    predicts = np.zeros(y.shape)\n",
        "\n",
        "    for index in range(X_test.shape[0]):\n",
        "      x = X_test[index]\n",
        "      predicts[0, index] = self.predict(x)\n",
        "\n",
        "    # calculate accurracy\n",
        "    f = np.frompyfunc(lambda x: x if x == 1 else 0,1,1)\n",
        "    num_correct_predicts = np.sum(f(predicts*y))\n",
        "    num_predicts = y.shape[1]\n",
        "    acc = num_correct_predicts / num_predicts\n",
        "\n",
        "    return predicts, acc\n",
        "\n",
        "        \n",
        "\n"
      ],
      "execution_count": 260,
      "outputs": []
    },
    {
      "cell_type": "code",
      "metadata": {
        "colab": {
          "base_uri": "https://localhost:8080/"
        },
        "id": "CwLeCUvZnqQY",
        "outputId": "e0961490-0dd6-436a-aa0c-b5ae9cc53de2"
      },
      "source": [
        "dt_model = DecisionTree(max_depth=10)\n",
        "dt_model.fit(X_train,y_train)"
      ],
      "execution_count": 261,
      "outputs": [
        {
          "output_type": "stream",
          "text": [
            "X shape: (3878, 300)\n",
            "y shape: (1, 3878)\n",
            "ids shape: (3878,)\n"
          ],
          "name": "stdout"
        }
      ]
    },
    {
      "cell_type": "code",
      "metadata": {
        "id": "aQ3062YZ0Xhb"
      },
      "source": [
        "predicts, acc = dt_model.test(X_test, y_test)"
      ],
      "execution_count": 262,
      "outputs": []
    },
    {
      "cell_type": "code",
      "metadata": {
        "colab": {
          "base_uri": "https://localhost:8080/"
        },
        "id": "abCQrFFM0iZ4",
        "outputId": "3fc947e1-6952-4a99-ad5f-6b8c748a20bf"
      },
      "source": [
        "acc"
      ],
      "execution_count": 263,
      "outputs": [
        {
          "output_type": "execute_result",
          "data": {
            "text/plain": [
              "0.8244392884764115"
            ]
          },
          "metadata": {
            "tags": []
          },
          "execution_count": 263
        }
      ]
    },
    {
      "cell_type": "markdown",
      "metadata": {
        "id": "lTfiSMWGNh4I"
      },
      "source": [
        "# VII. Test models with banknote authentication dataset"
      ]
    },
    {
      "cell_type": "code",
      "metadata": {
        "id": "wmmIAKhhoRqL"
      },
      "source": [
        "banknote_dataset = pd.read_csv('drive/MyDrive/desktop/ADA/extra/data_banknote_authentication.txt', delimiter = \",\", header=None)"
      ],
      "execution_count": 264,
      "outputs": []
    },
    {
      "cell_type": "code",
      "metadata": {
        "colab": {
          "base_uri": "https://localhost:8080/",
          "height": 424
        },
        "id": "V4fMK93Jon2r",
        "outputId": "03fbc7f1-ddf1-48b4-ce42-11910f822bc1"
      },
      "source": [
        "banknote_dataset"
      ],
      "execution_count": 265,
      "outputs": [
        {
          "output_type": "execute_result",
          "data": {
            "text/html": [
              "<div>\n",
              "<style scoped>\n",
              "    .dataframe tbody tr th:only-of-type {\n",
              "        vertical-align: middle;\n",
              "    }\n",
              "\n",
              "    .dataframe tbody tr th {\n",
              "        vertical-align: top;\n",
              "    }\n",
              "\n",
              "    .dataframe thead th {\n",
              "        text-align: right;\n",
              "    }\n",
              "</style>\n",
              "<table border=\"1\" class=\"dataframe\">\n",
              "  <thead>\n",
              "    <tr style=\"text-align: right;\">\n",
              "      <th></th>\n",
              "      <th>0</th>\n",
              "      <th>1</th>\n",
              "      <th>2</th>\n",
              "      <th>3</th>\n",
              "      <th>4</th>\n",
              "    </tr>\n",
              "  </thead>\n",
              "  <tbody>\n",
              "    <tr>\n",
              "      <th>0</th>\n",
              "      <td>3.62160</td>\n",
              "      <td>8.66610</td>\n",
              "      <td>-2.8073</td>\n",
              "      <td>-0.44699</td>\n",
              "      <td>0</td>\n",
              "    </tr>\n",
              "    <tr>\n",
              "      <th>1</th>\n",
              "      <td>4.54590</td>\n",
              "      <td>8.16740</td>\n",
              "      <td>-2.4586</td>\n",
              "      <td>-1.46210</td>\n",
              "      <td>0</td>\n",
              "    </tr>\n",
              "    <tr>\n",
              "      <th>2</th>\n",
              "      <td>3.86600</td>\n",
              "      <td>-2.63830</td>\n",
              "      <td>1.9242</td>\n",
              "      <td>0.10645</td>\n",
              "      <td>0</td>\n",
              "    </tr>\n",
              "    <tr>\n",
              "      <th>3</th>\n",
              "      <td>3.45660</td>\n",
              "      <td>9.52280</td>\n",
              "      <td>-4.0112</td>\n",
              "      <td>-3.59440</td>\n",
              "      <td>0</td>\n",
              "    </tr>\n",
              "    <tr>\n",
              "      <th>4</th>\n",
              "      <td>0.32924</td>\n",
              "      <td>-4.45520</td>\n",
              "      <td>4.5718</td>\n",
              "      <td>-0.98880</td>\n",
              "      <td>0</td>\n",
              "    </tr>\n",
              "    <tr>\n",
              "      <th>...</th>\n",
              "      <td>...</td>\n",
              "      <td>...</td>\n",
              "      <td>...</td>\n",
              "      <td>...</td>\n",
              "      <td>...</td>\n",
              "    </tr>\n",
              "    <tr>\n",
              "      <th>1367</th>\n",
              "      <td>0.40614</td>\n",
              "      <td>1.34920</td>\n",
              "      <td>-1.4501</td>\n",
              "      <td>-0.55949</td>\n",
              "      <td>1</td>\n",
              "    </tr>\n",
              "    <tr>\n",
              "      <th>1368</th>\n",
              "      <td>-1.38870</td>\n",
              "      <td>-4.87730</td>\n",
              "      <td>6.4774</td>\n",
              "      <td>0.34179</td>\n",
              "      <td>1</td>\n",
              "    </tr>\n",
              "    <tr>\n",
              "      <th>1369</th>\n",
              "      <td>-3.75030</td>\n",
              "      <td>-13.45860</td>\n",
              "      <td>17.5932</td>\n",
              "      <td>-2.77710</td>\n",
              "      <td>1</td>\n",
              "    </tr>\n",
              "    <tr>\n",
              "      <th>1370</th>\n",
              "      <td>-3.56370</td>\n",
              "      <td>-8.38270</td>\n",
              "      <td>12.3930</td>\n",
              "      <td>-1.28230</td>\n",
              "      <td>1</td>\n",
              "    </tr>\n",
              "    <tr>\n",
              "      <th>1371</th>\n",
              "      <td>-2.54190</td>\n",
              "      <td>-0.65804</td>\n",
              "      <td>2.6842</td>\n",
              "      <td>1.19520</td>\n",
              "      <td>1</td>\n",
              "    </tr>\n",
              "  </tbody>\n",
              "</table>\n",
              "<p>1372 rows × 5 columns</p>\n",
              "</div>"
            ],
            "text/plain": [
              "            0         1        2        3  4\n",
              "0     3.62160   8.66610  -2.8073 -0.44699  0\n",
              "1     4.54590   8.16740  -2.4586 -1.46210  0\n",
              "2     3.86600  -2.63830   1.9242  0.10645  0\n",
              "3     3.45660   9.52280  -4.0112 -3.59440  0\n",
              "4     0.32924  -4.45520   4.5718 -0.98880  0\n",
              "...       ...       ...      ...      ... ..\n",
              "1367  0.40614   1.34920  -1.4501 -0.55949  1\n",
              "1368 -1.38870  -4.87730   6.4774  0.34179  1\n",
              "1369 -3.75030 -13.45860  17.5932 -2.77710  1\n",
              "1370 -3.56370  -8.38270  12.3930 -1.28230  1\n",
              "1371 -2.54190  -0.65804   2.6842  1.19520  1\n",
              "\n",
              "[1372 rows x 5 columns]"
            ]
          },
          "metadata": {
            "tags": []
          },
          "execution_count": 265
        }
      ]
    },
    {
      "cell_type": "code",
      "metadata": {
        "id": "eHMyk9zRpnqA"
      },
      "source": [
        "banknote_X = banknote_dataset.iloc[:,:-1].to_numpy()\n",
        "banknote_y = banknote_dataset.iloc[:,-1].to_numpy()\n",
        "banknote_y = np.where(banknote_y == 0, -1, banknote_y)"
      ],
      "execution_count": 266,
      "outputs": []
    },
    {
      "cell_type": "code",
      "metadata": {
        "id": "cv8iNm08jp4U"
      },
      "source": [
        "banknote_X_train, banknote_X_test, banknote_y_train, banknote_y_test = train_test_split(banknote_X, banknote_y)\n",
        "banknote_X_train = banknote_X_train.T\n",
        "banknote_X_test = banknote_X_test.T\n",
        "banknote_y_train = banknote_y_train.reshape(1, banknote_y_train.shape[0])\n",
        "banknote_y_test = banknote_y_test.reshape(1, banknote_y_test.shape[0])"
      ],
      "execution_count": 267,
      "outputs": []
    },
    {
      "cell_type": "code",
      "metadata": {
        "colab": {
          "base_uri": "https://localhost:8080/"
        },
        "id": "ZbY0Ttdam6Q2",
        "outputId": "51626616-e34e-4c41-d767-f1ecf94381a3"
      },
      "source": [
        "print(banknote_X_train.shape)\n",
        "print(banknote_y_train.shape)\n",
        "print(banknote_X_test.shape)\n",
        "print(banknote_y_test.shape)"
      ],
      "execution_count": 268,
      "outputs": [
        {
          "output_type": "stream",
          "text": [
            "(4, 1029)\n",
            "(1, 1029)\n",
            "(4, 343)\n",
            "(1, 343)\n"
          ],
          "name": "stdout"
        }
      ]
    },
    {
      "cell_type": "code",
      "metadata": {
        "id": "L_e-JTDwljsd",
        "colab": {
          "base_uri": "https://localhost:8080/"
        },
        "outputId": "70780765-bf1a-4d93-de4a-68b2aa899370"
      },
      "source": [
        "dt_model = NewDecisionTree(max_depth=10)\n",
        "dt_model.fit(banknote_X_train, banknote_y_train)"
      ],
      "execution_count": 269,
      "outputs": [
        {
          "output_type": "stream",
          "text": [
            "X shape: (1029, 4)\n",
            "y shape: (1, 1029)\n",
            "ids shape: (1029,)\n"
          ],
          "name": "stdout"
        }
      ]
    },
    {
      "cell_type": "code",
      "metadata": {
        "id": "FzhrSrXDd6pN"
      },
      "source": [
        "predicts, acc = dt_model.test(banknote_X_test, banknote_y_test)"
      ],
      "execution_count": 270,
      "outputs": []
    },
    {
      "cell_type": "code",
      "metadata": {
        "colab": {
          "base_uri": "https://localhost:8080/"
        },
        "id": "EJdSLGMuidxB",
        "outputId": "ea7f910b-c98e-4ad2-a5ef-95d992f0cef3"
      },
      "source": [
        "acc"
      ],
      "execution_count": 271,
      "outputs": [
        {
          "output_type": "execute_result",
          "data": {
            "text/plain": [
              "0.9795918367346939"
            ]
          },
          "metadata": {
            "tags": []
          },
          "execution_count": 271
        }
      ]
    },
    {
      "cell_type": "code",
      "metadata": {
        "colab": {
          "base_uri": "https://localhost:8080/"
        },
        "id": "hOim5bmH8UbE",
        "outputId": "2d814f72-0ee9-402b-9120-33bdab807c31"
      },
      "source": [
        "model = SVM()\n",
        "model.fit(banknote_X_train, banknote_y_train)"
      ],
      "execution_count": 272,
      "outputs": [
        {
          "output_type": "stream",
          "text": [
            "Acc: 0.1467444120505345\n",
            "Acc: 0.9931972789115646\n",
            "Acc: 0.9931972789115646\n",
            "Acc: 0.9941690962099126\n",
            "Acc: 0.9931972789115646\n",
            "Acc: 0.9951409135082604\n",
            "Acc: 0.9922254616132167\n",
            "Acc: 0.9922254616132167\n",
            "Acc: 0.9922254616132167\n",
            "Acc: 0.9922254616132167\n"
          ],
          "name": "stdout"
        }
      ]
    },
    {
      "cell_type": "code",
      "metadata": {
        "id": "ZFnARCIf8lvk"
      },
      "source": [
        "predicts, acc = model.predict(banknote_X_test, banknote_y_test)"
      ],
      "execution_count": 273,
      "outputs": []
    },
    {
      "cell_type": "code",
      "metadata": {
        "colab": {
          "base_uri": "https://localhost:8080/"
        },
        "id": "ud2YKnC78y5S",
        "outputId": "7ce2c17a-e8f4-4b49-b41a-dbc30f4d6eda"
      },
      "source": [
        "acc"
      ],
      "execution_count": 274,
      "outputs": [
        {
          "output_type": "execute_result",
          "data": {
            "text/plain": [
              "0.9795918367346939"
            ]
          },
          "metadata": {
            "tags": []
          },
          "execution_count": 274
        }
      ]
    },
    {
      "cell_type": "code",
      "metadata": {
        "id": "Dwwrsu0d80e7"
      },
      "source": [
        "model = kNN()\n",
        "model.fit(banknote_X_train, banknote_y_train)\n",
        "predicts, acc = model.predict(banknote_X_test, banknote_y_test)"
      ],
      "execution_count": 275,
      "outputs": []
    },
    {
      "cell_type": "code",
      "metadata": {
        "colab": {
          "base_uri": "https://localhost:8080/"
        },
        "id": "ac4Ycd989Gyo",
        "outputId": "63bdb7f6-536a-40a0-ab9a-1c07e6e2e9c0"
      },
      "source": [
        "acc"
      ],
      "execution_count": 276,
      "outputs": [
        {
          "output_type": "execute_result",
          "data": {
            "text/plain": [
              "1.0"
            ]
          },
          "metadata": {
            "tags": []
          },
          "execution_count": 276
        }
      ]
    }
  ]
}